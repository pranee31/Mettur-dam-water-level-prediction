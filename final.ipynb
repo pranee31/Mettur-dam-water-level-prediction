{
  "nbformat": 4,
  "nbformat_minor": 0,
  "metadata": {
    "colab": {
      "provenance": [],
      "include_colab_link": true
    },
    "kernelspec": {
      "name": "python3",
      "display_name": "Python 3"
    },
    "language_info": {
      "name": "python"
    }
  },
  "cells": [
    {
      "cell_type": "markdown",
      "metadata": {
        "id": "view-in-github",
        "colab_type": "text"
      },
      "source": [
        "<a href=\"https://colab.research.google.com/github/pranee31/Mettur-dam-water-level-prediction/blob/main/final.ipynb\" target=\"_parent\"><img src=\"https://colab.research.google.com/assets/colab-badge.svg\" alt=\"Open In Colab\"/></a>"
      ]
    },
    {
      "cell_type": "code",
      "execution_count": null,
      "metadata": {
        "colab": {
          "base_uri": "https://localhost:8080/"
        },
        "id": "xbpYSJTFP0Xu",
        "outputId": "2b2e75ab-9de5-44b5-c741-2a5a889497aa"
      },
      "outputs": [
        {
          "output_type": "stream",
          "name": "stdout",
          "text": [
            "<class 'pandas.core.frame.DataFrame'>\n",
            "RangeIndex: 2716 entries, 0 to 2715\n",
            "Data columns (total 9 columns):\n",
            " #   Column                         Non-Null Count  Dtype  \n",
            "---  ------                         --------------  -----  \n",
            " 0   tempmax                        2716 non-null   float64\n",
            " 1   tempmin                        2716 non-null   float64\n",
            " 2   temp                           2716 non-null   float64\n",
            " 3   humidity                       2716 non-null   float64\n",
            " 4   precip                         2716 non-null   float64\n",
            " 5   Current Year Inflow (CuSecs)   2716 non-null   float64\n",
            " 6   Current Year Outflow (CuSecs)  2715 non-null   float64\n",
            " 7   Full Capacity (M.Cft.)         2716 non-null   int64  \n",
            " 8   Current Year Storage (M.Cft.)  2716 non-null   int64  \n",
            "dtypes: float64(7), int64(2)\n",
            "memory usage: 191.1 KB\n"
          ]
        }
      ],
      "source": [
        "import pandas as pd\n",
        "import numpy as np\n",
        "\n",
        "# Load the dataset\n",
        "file_path = 'revised mettur_dam_data.csv'\n",
        "dam_data = pd.read_csv(file_path)\n",
        "\n",
        "# Step 1: Handle missing values\n",
        "# Fill numeric missing values with the median of the column\n",
        "numeric_columns = dam_data.select_dtypes(include=[np.number]).columns\n",
        "dam_data[numeric_columns] = dam_data[numeric_columns].fillna(dam_data[numeric_columns].median())\n",
        "\n",
        "# Fill categorical missing values with the mode of the column\n",
        "categorical_columns = dam_data.select_dtypes(include=[object]).columns\n",
        "dam_data[categorical_columns] = dam_data[categorical_columns].fillna(dam_data[categorical_columns].mode().iloc[0])\n",
        "\n",
        "# Step 2: Convert date columns to datetime format\n",
        "dam_data['datetime'] = pd.to_datetime(dam_data['datetime'], errors='coerce')\n",
        "dam_data['Date'] = pd.to_datetime(dam_data['Date'], errors='coerce')\n",
        "\n",
        "# Step 3: Drop unnecessary columns\n",
        "# Retain 'Full Capacity (M.Cft.)' but drop other irrelevant columns\n",
        "columns_to_drop = ['name', 'Reservoir Name', 'stations', 'description', 'icon']\n",
        "dam_data = dam_data.drop(columns=columns_to_drop, axis=1)\n",
        "\n",
        "# Step 4: Ensure all data is numeric where required\n",
        "# Convert \"Current Year Outflow (CuSecs)\" to numeric\n",
        "# Convert 'Full Capacity (M.Cft.)' column to float\n",
        "dam_data['Full Capacity (M.Cft.)'] = dam_data['Full Capacity (M.Cft.)'].replace({',': ''}, regex=True)\n",
        "dam_data['Full Capacity (M.Cft.)'] = pd.to_numeric(dam_data['Full Capacity (M.Cft.)'], errors='coerce')\n",
        "\n",
        "\n",
        "dam_data['Current Year Outflow (CuSecs)'] = pd.to_numeric(dam_data['Current Year Outflow (CuSecs)'], errors='coerce')\n",
        "\n",
        "# Fill numeric columns with their median value\n",
        "for col in numeric_columns:\n",
        "    if col in dam_data.columns:\n",
        "        dam_data[col] = dam_data[col].fillna(dam_data[col].median())\n",
        "\n",
        "# Step 5: Extract relevant features\n",
        "# Adding 'Full Capacity (M.Cft.)' to the feature list\n",
        "features = [\n",
        "    'tempmax', 'tempmin', 'temp', 'humidity', 'precip',\n",
        "    'Current Year Inflow (CuSecs)', 'Current Year Outflow (CuSecs)',\n",
        "    'Full Capacity (M.Cft.)', 'Current Year Storage (M.Cft.)'\n",
        "]\n",
        "target = 'Current Year Storage (M.Cft.)'  # Predict future storage\n",
        "\n",
        "# Filter dataset for features and target\n",
        "dam_data = dam_data[features]\n",
        "\n",
        "# Display cleaned dataset information\n",
        "dam_data.info()\n"
      ]
    },
    {
      "cell_type": "code",
      "source": [
        "from sklearn.model_selection import train_test_split\n",
        "\n",
        "# Define features (X) and target (y)\n",
        "X = dam_data.drop(columns=['Current Year Storage (M.Cft.)'], axis=1)\n",
        "y = dam_data['Current Year Storage (M.Cft.)']\n",
        "\n",
        "# Split data into training and testing sets (80%-20%)\n",
        "X_train, X_test, y_train, y_test = train_test_split(X, y, test_size=0.2, random_state=42)\n",
        "\n",
        "# Display the shape of training and testing sets\n",
        "print(f\"Training set: X_train: {X_train.shape}, y_train: {y_train.shape}\")\n",
        "print(f\"Testing set: X_test: {X_test.shape}, y_test: {y_test.shape}\")\n"
      ],
      "metadata": {
        "colab": {
          "base_uri": "https://localhost:8080/"
        },
        "id": "3vdCQochRim7",
        "outputId": "e63c9593-cfaf-41e4-e746-1a1b6ff6dc7d"
      },
      "execution_count": null,
      "outputs": [
        {
          "output_type": "stream",
          "name": "stdout",
          "text": [
            "Training set: X_train: (2172, 8), y_train: (2172,)\n",
            "Testing set: X_test: (544, 8), y_test: (544,)\n"
          ]
        }
      ]
    },
    {
      "cell_type": "code",
      "source": [
        "from sklearn.ensemble import RandomForestRegressor\n",
        "\n",
        "# Initialize the model\n",
        "model = RandomForestRegressor(n_estimators=100, random_state=42)\n",
        "\n",
        "# Train the model\n",
        "model.fit(X_train, y_train)\n",
        "\n",
        "# Print model training completion\n",
        "print(\"Model training complete.\")\n"
      ],
      "metadata": {
        "colab": {
          "base_uri": "https://localhost:8080/"
        },
        "id": "i1ccxaoCRkjR",
        "outputId": "8e03bd28-0b30-4c8d-8269-ab0d059cb536"
      },
      "execution_count": null,
      "outputs": [
        {
          "output_type": "stream",
          "name": "stdout",
          "text": [
            "Model training complete.\n"
          ]
        }
      ]
    },
    {
      "cell_type": "code",
      "source": [
        "from sklearn.metrics import r2_score, mean_absolute_error\n",
        "\n",
        "# Make predictions on the test set\n",
        "y_pred = model.predict(X_test)\n",
        "\n",
        "# Calculate evaluation metrics\n",
        "r2 = r2_score(y_test, y_pred)\n",
        "mae = mean_absolute_error(y_test, y_pred)\n",
        "\n",
        "print(f\"R² Score: {r2}\")\n",
        "print(f\"Mean Absolute Error: {mae}\")\n"
      ],
      "metadata": {
        "colab": {
          "base_uri": "https://localhost:8080/"
        },
        "id": "gVgKfQKwRm2A",
        "outputId": "d09d8a6d-10c5-4fa3-b280-4e27b0870a85"
      },
      "execution_count": null,
      "outputs": [
        {
          "output_type": "stream",
          "name": "stdout",
          "text": [
            "R² Score: 0.8362737479808993\n",
            "Mean Absolute Error: 6276.981712622549\n"
          ]
        }
      ]
    },
    {
      "cell_type": "code",
      "source": [
        "\n",
        "import requests\n",
        "from bs4 import BeautifulSoup\n",
        "from datetime import datetime\n",
        "import pandas as pd\n",
        "\n",
        "# Function to fetch current dam data\n",
        "def fetch_current_dam_data(date):\n",
        "    url = f\"http://tnagriculture.in/ARS/home/reservoir/{date}\"\n",
        "    response = requests.get(url)\n",
        "    soup = BeautifulSoup(response.content, 'html.parser')\n",
        "\n",
        "    # Extract relevant details (adjust selectors based on the HTML structure)\n",
        "    current_data = {\n",
        "        'Current Year Storage (M.Cft.)': None,\n",
        "        'Current Year Inflow (CuSecs)': None,\n",
        "        'Current Year Outflow (CuSecs)': None,\n",
        "        'Full Capacity (M.Cft.)': None,\n",
        "    }\n",
        "\n",
        "    try:\n",
        "        # Assuming data is in table rows, customize this as per actual structure\n",
        "        table_rows = soup.find_all('tr')\n",
        "        row=table_rows[1]\n",
        "        cells = row.find_all('td')\n",
        "        if len(cells) > 1:\n",
        "            if 'Current Year Storage (M.Cft.)' in cells[4].text:\n",
        "                current_data['Current Year Storage (M.Cft.)'] = float(cells[1].text.replace(',', ''))\n",
        "            elif 'Current Year Inflow (CuSecs)' in cells[5].text:\n",
        "                current_data['Current Year Inflow (CuSecs)'] = float(cells[1].text.replace(',', ''))\n",
        "            elif 'Current Year Outflow (CuSecs)' in cells[6].text:\n",
        "                current_data['Current Year Outflow (CuSecs)'] = float(cells[1].text.replace(',', ''))\n",
        "            elif 'Full Capacity (M.Cft.)' in cells[2].text:\n",
        "                current_data['Full Capacity (M.Cft.)'] = float(cells[1].text.replace(',', ''))\n",
        "    except Exception as e:\n",
        "        print(f\"Error fetching dam data: {e}\")\n",
        "\n",
        "    return current_data\n",
        "# Function to fetch future weather data\n",
        "def fetch_weather_data(date1, date2):\n",
        "    api_key = \"GUPPEYKJKWWQKWXWR2V97VVHC\"\n",
        "    url = f\"https://weather.visualcrossing.com/VisualCrossingWebServices/rest/services/timeline/mettur/{date1}/{date2}?key={api_key}\"\n",
        "    response = requests.get(url)\n",
        "\n",
        "    if response.status_code == 200:\n",
        "        weather_data = response.json()\n",
        "        # Extract relevant weather details for the target date\n",
        "        future_weather = {\n",
        "            'tempmax': weather_data['days'][0]['tempmax'],\n",
        "            'tempmin': weather_data['days'][0]['tempmin'],\n",
        "            'temp': weather_data['days'][0]['temp'],\n",
        "            'humidity': weather_data['days'][0]['humidity'],\n",
        "            'precip': weather_data['days'][0]['precip']\n",
        "        }\n",
        "        return future_weather\n",
        "    else:\n",
        "        print(f\"Error fetching weather data: {response.status_code}\")\n",
        "        return None\n"
      ],
      "metadata": {
        "id": "4OvWqlYLRpqy"
      },
      "execution_count": null,
      "outputs": []
    },
    {
      "cell_type": "code",
      "source": [
        "def predict_future_storage(date, model):\n",
        "    # Fetch current dam data\n",
        "    current_dam_data = fetch_current_dam_data(date)\n",
        "    if not current_dam_data:\n",
        "        print(\"Failed to fetch dam data.\")\n",
        "        return None\n",
        "\n",
        "    # Fetch future weather data\n",
        "    future_weather_data = fetch_weather_data(date, date)\n",
        "    if not future_weather_data:\n",
        "        print(\"Failed to fetch weather data.\")\n",
        "        return None\n",
        "\n",
        "    # Combine all data into a single input\n",
        "    input_data = {\n",
        "        **current_dam_data,\n",
        "        **future_weather_data\n",
        "    }\n",
        "\n",
        "    # Ensure all required features are present\n",
        "    feature_order = [\n",
        "        'tempmax', 'tempmin', 'temp', 'humidity', 'precip',\n",
        "        'Current Year Inflow (CuSecs)', 'Current Year Outflow (CuSecs)',\n",
        "        'Full Capacity (M.Cft.)'\n",
        "    ]\n",
        "    input_values = [input_data[feature] for feature in feature_order]\n",
        "\n",
        "    # Make prediction\n",
        "    prediction = model.predict([input_values])[0]\n",
        "    print(f\"Predicted Water Storage on {date}: {prediction} M.Cft.\")\n",
        "    return prediction\n"
      ],
      "metadata": {
        "id": "BR5BhFOjRr5J"
      },
      "execution_count": null,
      "outputs": []
    },
    {
      "cell_type": "code",
      "source": [
        "# Function to allow user input for the future date\n",
        "def get_future_date():\n",
        "    future_date = input(\"Please enter the future date (YYYY-MM-DD): \")\n",
        "    return future_date\n",
        "\n",
        "# Main function to predict future storage\n",
        "def predict_future_storage(future_date, model):\n",
        "    # Assuming you already have code to prepare the data and use the model for prediction\n",
        "    print(f\"Predicting storage for the date: {future_date}\")\n",
        "    # Fetch current dam data\n",
        "    current_dam_data = fetch_current_dam_data(future_date)\n",
        "    print(current_dam_data)\n",
        "    if not current_dam_data:\n",
        "        print(\"Failed to fetch dam data.\")\n",
        "        return None\n",
        "\n",
        "    # Fetch future weather data\n",
        "    future_weather_data = fetch_weather_data(future_date, future_date)\n",
        "    if not future_weather_data:\n",
        "        print(\"Failed to fetch weather data.\")\n",
        "        return None\n",
        "\n",
        "    # Combine all data into a single input\n",
        "    input_data = {\n",
        "        **current_dam_data,\n",
        "        **future_weather_data\n",
        "    }\n",
        "\n",
        "    # Ensure all required features are present\n",
        "    feature_order = [\n",
        "        'tempmax', 'tempmin', 'temp', 'humidity', 'precip',\n",
        "        'Current Year Inflow (CuSecs)', 'Current Year Outflow (CuSecs)',\n",
        "        'Full Capacity (M.Cft.)'\n",
        "    ]\n",
        "    input_values = [input_data[feature] for feature in feature_order]\n",
        "\n",
        "    # Make prediction\n",
        "    prediction = model.predict([input_values])[0]\n",
        "    print(f\"Predicted Water Storage on {future_date}: {prediction} M.Cft.\")\n",
        "    return prediction\n",
        "# Get user input\n",
        "future_date = get_future_date()\n",
        "\n",
        "# Call the function with the entered future date\n",
        "predict_future_storage(future_date, model)\n"
      ],
      "metadata": {
        "colab": {
          "base_uri": "https://localhost:8080/"
        },
        "id": "2fE8UsKWRue6",
        "outputId": "5b81a6c0-6c05-4aa6-fd93-fa0e2f84aca0"
      },
      "execution_count": null,
      "outputs": [
        {
          "output_type": "stream",
          "name": "stdout",
          "text": [
            "Please enter the future date (YYYY-MM-DD): 2025-12-04\n",
            "Predicting storage for the date: 2025-12-04\n",
            "{'Current Year Storage (M.Cft.)': None, 'Current Year Inflow (CuSecs)': None, 'Current Year Outflow (CuSecs)': None, 'Full Capacity (M.Cft.)': None}\n",
            "Predicted Water Storage on 2025-12-04: 90963.66 M.Cft.\n"
          ]
        },
        {
          "output_type": "stream",
          "name": "stderr",
          "text": [
            "/usr/local/lib/python3.10/dist-packages/sklearn/utils/validation.py:2739: UserWarning: X does not have valid feature names, but RandomForestRegressor was fitted with feature names\n",
            "  warnings.warn(\n"
          ]
        },
        {
          "output_type": "execute_result",
          "data": {
            "text/plain": [
              "90963.66"
            ]
          },
          "metadata": {},
          "execution_count": 22
        }
      ]
    },
    {
      "cell_type": "code",
      "source": [
        "import matplotlib.pyplot as plt\n",
        "\n",
        "# Scatter plot for Actual vs. Predicted Water Storage\n",
        "plt.figure(figsize=(10, 6))\n",
        "plt.scatter(y_test, y_pred, color='blue', alpha=0.7)\n",
        "plt.title('Actual vs. Predicted Water Storage')\n",
        "plt.xlabel('Actual Water Storage (M.Cft.)')\n",
        "plt.ylabel('Predicted Water Storage (M.Cft.)')\n",
        "plt.grid(True)\n",
        "plt.plot([min(y_test), max(y_test)], [min(y_test), max(y_test)], 'r--', linewidth=2)\n",
        "plt.show()\n"
      ],
      "metadata": {
        "colab": {
          "base_uri": "https://localhost:8080/",
          "height": 564
        },
        "id": "slB_ozR8Rw7R",
        "outputId": "63bd7266-95d5-4a60-ea55-8da2aeb175a5"
      },
      "execution_count": null,
      "outputs": [
        {
          "output_type": "display_data",
          "data": {
            "text/plain": [
              "<Figure size 1000x600 with 1 Axes>"
            ],
            "image/png": "[encoded data removed]"
          },
          "metadata": {}
        }
      ]
    },
    {
      "cell_type": "code",
      "source": [
        "# Feature importances plot\n",
        "importances = model.feature_importances_\n",
        "features = X.columns\n",
        "\n",
        "plt.figure(figsize=(12, 6))\n",
        "plt.barh(features, importances, color='skyblue')\n",
        "plt.title('Feature Importances')\n",
        "plt.xlabel('Importance')\n",
        "plt.ylabel('Feature')\n",
        "plt.gca().invert_yaxis()\n",
        "plt.show()\n"
      ],
      "metadata": {
        "colab": {
          "base_uri": "https://localhost:8080/",
          "height": 450
        },
        "id": "v3s-UUlQRzBr",
        "outputId": "c2216dff-5a20-4d9c-c772-0dc765c4e767"
      },
      "execution_count": null,
      "outputs": [
        {
          "output_type": "display_data",
          "data": {
            "text/plain": [
              "<Figure size 1200x600 with 1 Axes>"
            ],
            "image/png": "[encoded data removed]"
          },
          "metadata": {}
        }
      ]
    },
    {
      "cell_type": "code",
      "source": [
        "import pandas as pd\n",
        "\n",
        "# Assuming your data starts from '2010-01-01' and has daily frequency\n",
        "dam_data['Date'] = pd.date_range(start='2010-01-01', periods=len(dam_data), freq='D')\n",
        "\n",
        "# Ensure 'Date' is in datetime format\n",
        "dam_data['Date'] = pd.to_datetime(dam_data['Date'], errors='coerce')\n",
        "\n",
        "# Check if the 'Date' column has been added successfully\n",
        "print(dam_data.head())\n"
      ],
      "metadata": {
        "colab": {
          "base_uri": "https://localhost:8080/"
        },
        "id": "-wxIuHHiRy-O",
        "outputId": "396c8b3d-8835-4b13-aae3-c589ae7c4fd7"
      },
      "execution_count": null,
      "outputs": [
        {
          "output_type": "stream",
          "name": "stdout",
          "text": [
            "   tempmax  tempmin  temp  humidity  precip  Current Year Inflow (CuSecs)  \\\n",
            "0     94.7     73.6  83.7      69.6   0.020                        2886.0   \n",
            "1     93.8     74.6  83.5      67.0   0.114                        2886.0   \n",
            "2     88.8     75.1  81.8      68.1   0.139                        2886.0   \n",
            "3     91.1     74.0  82.5      69.1   0.063                        2886.0   \n",
            "4     92.6     75.6  83.1      70.4   0.201                        2886.0   \n",
            "\n",
            "   Current Year Outflow (CuSecs)  Full Capacity (M.Cft.)  \\\n",
            "0                          803.0                   93470   \n",
            "1                          803.0                   93470   \n",
            "2                          803.0                   93470   \n",
            "3                          803.0                   93470   \n",
            "4                          803.0                   93470   \n",
            "\n",
            "   Current Year Storage (M.Cft.)       Date  \n",
            "0                          92391 2010-01-01  \n",
            "1                          92391 2010-01-02  \n",
            "2                          92391 2010-01-03  \n",
            "3                          92391 2010-01-04  \n",
            "4                          92391 2010-01-05  \n"
          ]
        }
      ]
    },
    {
      "cell_type": "code",
      "source": [
        "# Generate a 'Date' column with daily frequency\n",
        "dam_data['Date'] = pd.date_range(start='2010-01-01', periods=len(dam_data), freq='D')\n",
        "\n",
        "\n",
        "\n",
        "# Ensure 'Date' is in datetime format\n",
        "dam_data['Date'] = pd.to_datetime(dam_data['Date'], errors='coerce')\n",
        "\n",
        "# Check the DataFrame\n",
        "print(dam_data.head())\n"
      ],
      "metadata": {
        "colab": {
          "base_uri": "https://localhost:8080/"
        },
        "id": "ZILmcuwJR745",
        "outputId": "f2de372d-985f-4caa-e4e3-83c52325e04f"
      },
      "execution_count": null,
      "outputs": [
        {
          "output_type": "stream",
          "name": "stdout",
          "text": [
            "   tempmax  tempmin  temp  humidity  precip  Current Year Inflow (CuSecs)  \\\n",
            "0     94.7     73.6  83.7      69.6   0.020                        2886.0   \n",
            "1     93.8     74.6  83.5      67.0   0.114                        2886.0   \n",
            "2     88.8     75.1  81.8      68.1   0.139                        2886.0   \n",
            "3     91.1     74.0  82.5      69.1   0.063                        2886.0   \n",
            "4     92.6     75.6  83.1      70.4   0.201                        2886.0   \n",
            "\n",
            "   Current Year Outflow (CuSecs)  Full Capacity (M.Cft.)  \\\n",
            "0                          803.0                   93470   \n",
            "1                          803.0                   93470   \n",
            "2                          803.0                   93470   \n",
            "3                          803.0                   93470   \n",
            "4                          803.0                   93470   \n",
            "\n",
            "   Current Year Storage (M.Cft.)       Date  \n",
            "0                          92391 2010-01-01  \n",
            "1                          92391 2010-01-02  \n",
            "2                          92391 2010-01-03  \n",
            "3                          92391 2010-01-04  \n",
            "4                          92391 2010-01-05  \n"
          ]
        }
      ]
    },
    {
      "cell_type": "markdown",
      "source": [
        "Fine Tuning"
      ],
      "metadata": {
        "id": "AMHcyLrfUSiS"
      }
    },
    {
      "cell_type": "code",
      "source": [
        "dam_data.fillna(dam_data.mean(), inplace=True)  # Example for filling missing values\n"
      ],
      "metadata": {
        "id": "uS-IHteqUUQJ"
      },
      "execution_count": null,
      "outputs": []
    },
    {
      "cell_type": "code",
      "source": [
        "from sklearn.model_selection import GridSearchCV\n",
        "\n",
        "param_grid = {\n",
        "    'n_estimators': [50, 100, 150],\n",
        "    'max_depth': [None, 10, 20],\n",
        "    'min_samples_split': [2, 5, 10]\n",
        "}\n",
        "grid_search = GridSearchCV(RandomForestRegressor(random_state=42), param_grid, cv=5, scoring='r2')\n",
        "grid_search.fit(X_train, y_train)\n",
        "best_model = grid_search.best_estimator_\n"
      ],
      "metadata": {
        "id": "BpNfmyuJUbeg"
      },
      "execution_count": null,
      "outputs": []
    },
    {
      "cell_type": "code",
      "source": [
        "from sklearn.model_selection import cross_val_score\n",
        "scores = cross_val_score(model, X, y, cv=5, scoring='r2')\n",
        "print(\"Cross-Validation R² Scores:\", scores)\n"
      ],
      "metadata": {
        "colab": {
          "base_uri": "https://localhost:8080/"
        },
        "id": "Q6wtO9bQUejH",
        "outputId": "e5388030-12e0-4da4-ec24-2fa61122a482"
      },
      "execution_count": null,
      "outputs": [
        {
          "output_type": "stream",
          "name": "stdout",
          "text": [
            "Cross-Validation R² Scores: [ 0.34700373  0.67659906 -0.21563268 -0.74723543  0.26064423]\n"
          ]
        }
      ]
    },
    {
      "cell_type": "code",
      "source": [
        "from sklearn.model_selection import RepeatedKFold\n",
        "\n",
        "rkf = RepeatedKFold(n_splits=5, n_repeats=3, random_state=42)\n",
        "scores = cross_val_score(model, X, y, cv=rkf, scoring='r2')\n",
        "print(\"Repeated CV Scores:\", scores)\n"
      ],
      "metadata": {
        "colab": {
          "base_uri": "https://localhost:8080/"
        },
        "id": "rFiDN1a6bsMz",
        "outputId": "9fbf0feb-807a-4619-f69a-ffd1fa5d1d92"
      },
      "execution_count": null,
      "outputs": [
        {
          "output_type": "stream",
          "name": "stdout",
          "text": [
            "Repeated CV Scores: [0.8419427  0.84965453 0.83331499 0.80202129 0.83236367 0.83365935\n",
            " 0.80331559 0.82360121 0.81583235 0.87551303 0.77070654 0.87213846\n",
            " 0.84767376 0.85000503 0.81702889]\n"
          ]
        }
      ]
    },
    {
      "cell_type": "code",
      "source": [
        "mean_score = scores.mean()\n",
        "print(f\"Mean Repeated CV Score: {mean_score:.3f}\")\n"
      ],
      "metadata": {
        "colab": {
          "base_uri": "https://localhost:8080/"
        },
        "id": "I_I_8TZYdOuF",
        "outputId": "7388b184-c07b-48f8-e807-0fe5d8cd5450"
      },
      "execution_count": null,
      "outputs": [
        {
          "output_type": "stream",
          "name": "stdout",
          "text": [
            "Mean Repeated CV Score: 0.831\n"
          ]
        }
      ]
    },
    {
      "cell_type": "code",
      "source": [
        "std_score = scores.std()\n",
        "print(f\"Standard Deviation of Repeated CV Scores: {std_score:.3f}\")\n"
      ],
      "metadata": {
        "colab": {
          "base_uri": "https://localhost:8080/"
        },
        "id": "So8VvRXTggU6",
        "outputId": "f4ee76c3-d6b2-4c0c-b6b0-be423bf58e9f"
      },
      "execution_count": null,
      "outputs": [
        {
          "output_type": "stream",
          "name": "stdout",
          "text": [
            "Standard Deviation of Repeated CV Scores: 0.026\n"
          ]
        }
      ]
    },
    {
      "cell_type": "code",
      "source": [
        "# Function to allow user input for the future date\n",
        "def get_future_date():\n",
        "    future_date = input(\"Please enter the future date (YYYY-MM-DD): \")\n",
        "    return future_date\n",
        "\n",
        "# Main function to predict future storage\n",
        "def predict_future_storage(future_date, model):\n",
        "    # Assuming you already have code to prepare the data and use the model for prediction\n",
        "    print(f\"Predicting storage for the date: {future_date}\")\n",
        "    # Fetch current dam data\n",
        "    current_dam_data = fetch_current_dam_data(future_date)\n",
        "    if not current_dam_data:\n",
        "        print(\"Failed to fetch dam data.\")\n",
        "        return None\n",
        "\n",
        "    # Fetch future weather data\n",
        "    future_weather_data = fetch_weather_data(future_date, future_date)\n",
        "    if not future_weather_data:\n",
        "        print(\"Failed to fetch weather data.\")\n",
        "        return None\n",
        "\n",
        "    # Combine all data into a single input\n",
        "    input_data = {\n",
        "        **current_dam_data,\n",
        "        **future_weather_data\n",
        "    }\n",
        "\n",
        "    # Ensure all required features are present\n",
        "    feature_order = [\n",
        "        'tempmax', 'tempmin', 'temp', 'humidity', 'precip',\n",
        "        'Current Year Inflow (CuSecs)', 'Current Year Outflow (CuSecs)',\n",
        "        'Full Capacity (M.Cft.)'\n",
        "    ]\n",
        "    input_values = [input_data[feature] for feature in feature_order]\n",
        "\n",
        "    # Make prediction\n",
        "    prediction = model.predict([input_values])[0]\n",
        "    print(f\"Predicted Water Storage on {future_date}: {prediction} M.Cft.\")\n",
        "    return prediction\n",
        "# Get user input\n",
        "future_date = get_future_date()\n",
        "\n",
        "# Call the function with the entered future date\n",
        "predict_future_storage(future_date, model)\n"
      ],
      "metadata": {
        "colab": {
          "base_uri": "https://localhost:8080/"
        },
        "id": "Dxnb4FY8oLfr",
        "outputId": "3d7c5e96-112b-4f92-c381-427e356c90f2"
      },
      "execution_count": null,
      "outputs": [
        {
          "output_type": "stream",
          "name": "stdout",
          "text": [
            "Please enter the future date (YYYY-MM-DD): 2025-01-03\n",
            "Predicting storage for the date: 2025-01-03\n",
            "Predicted Water Storage on 2025-01-03: 92386.23 M.Cft.\n"
          ]
        },
        {
          "output_type": "stream",
          "name": "stderr",
          "text": [
            "/usr/local/lib/python3.10/dist-packages/sklearn/utils/validation.py:2739: UserWarning: X does not have valid feature names, but RandomForestRegressor was fitted with feature names\n",
            "  warnings.warn(\n"
          ]
        },
        {
          "output_type": "execute_result",
          "data": {
            "text/plain": [
              "92386.23"
            ]
          },
          "metadata": {},
          "execution_count": 23
        }
      ]
    },
    {
      "cell_type": "code",
      "source": [
        "import pickle\n",
        "\n",
        "with open('model.pkl', 'wb') as file:\n",
        "  pickle.dump(model,file)\n",
        "\n",
        "print(\"model saved successfully.\")"
      ],
      "metadata": {
        "colab": {
          "base_uri": "https://localhost:8080/"
        },
        "id": "UGkhOuBouLef",
        "outputId": "fd7a5e10-046a-49dc-eaed-ef2dad5922ba"
      },
      "execution_count": null,
      "outputs": [
        {
          "output_type": "stream",
          "name": "stdout",
          "text": [
            "model saved successfully.\n"
          ]
        }
      ]
    },
    {
      "cell_type": "code",
      "source": [],
      "metadata": {
        "id": "X48z_E4qw99Z"
      },
      "execution_count": null,
      "outputs": []
    }
  ]
}